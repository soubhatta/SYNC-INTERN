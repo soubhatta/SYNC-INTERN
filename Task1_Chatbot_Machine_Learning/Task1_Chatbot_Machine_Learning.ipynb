{
 "cells": [
  {
   "cell_type": "markdown",
   "id": "bdaff326",
   "metadata": {},
   "source": [
    "**SYNC INTERN**\n",
    "\n",
    "**TASK 4 - Chatbot**\n",
    "\n",
    "**Soumalya Bhatacharyya - Machine Learning Intern**"
   ]
  },
  {
   "cell_type": "code",
   "execution_count": 1,
   "id": "7c9c00ed",
   "metadata": {},
   "outputs": [],
   "source": [
    "import random\n",
    "import time"
   ]
  },
  {
   "cell_type": "code",
   "execution_count": 2,
   "id": "40a746cc",
   "metadata": {},
   "outputs": [],
   "source": [
    "def greet():\n",
    "    greetings = [\"\\033[1;36mTravelBot: Hi! How are you? I'm your travel helping assistant.\\033[0m\"]\n",
    "    greeting = random.choice(greetings)\n",
    "    print(greeting)\n",
    "    time.sleep(2)"
   ]
  },
  {
   "cell_type": "code",
   "execution_count": 3,
   "id": "dbf74cee",
   "metadata": {},
   "outputs": [],
   "source": [
    "def ask_name():\n",
    "    print(\"\\033[1;31mTravelBot: What is your name?\\033[0m\")\n",
    "    name = input(\"User: \")\n",
    "    time.sleep(1)\n",
    "    print(\"\\033[1;36mTravelBot: Welcome! Pleasure to meet you.\\033[0m, \" + name + \"!\")\n",
    "    time.sleep(2)"
   ]
  },
  {
   "cell_type": "code",
   "execution_count": 4,
   "id": "48bf5360",
   "metadata": {},
   "outputs": [],
   "source": [
    "def ask_destination():\n",
    "    print(\"\\033[1;31mTravelBot: Where would you like to travel?\\033[0m\")\n",
    "    destination = input(\"User: \")\n",
    "    time.sleep(1)\n",
    "    print(\"\\033[1;36mTravelBot: Wow! Great Choice! \" + destination + \" Is A Beautiful Place.\\033[0m\")\n",
    "    time.sleep(2)"
   ]
  },
  {
   "cell_type": "code",
   "execution_count": 5,
   "id": "cf9dd35e",
   "metadata": {},
   "outputs": [],
   "source": [
    "def ask_members():\n",
    "    print(\"\\033[1;31mTravelBot: How many members will travel with you?\\033[0m\")\n",
    "    members = input(\"User: \")\n",
    "    time.sleep(1)\n",
    "    print(\"\\033[1;36mTravelBot: Great! It will be a wholesome trip for you.\\033[0m\")\n",
    "    time.sleep(2)"
   ]
  },
  {
   "cell_type": "code",
   "execution_count": 6,
   "id": "b4f350ef",
   "metadata": {},
   "outputs": [],
   "source": [
    "def ask_travelmode():\n",
    "    print(\"\\033[1;31mTravelBot: Will you prefer Train or Flight for your journey?\\033[0m\")\n",
    "    travelmode = input(\"User: \")\n",
    "    time.sleep(1)\n",
    "    print(\"\\033[1;36mTravelBot: Fine! \" + travelmode + \" journey will also be convenient for you.\\033[0m\")\n",
    "    time.sleep(2)"
   ]
  },
  {
   "cell_type": "code",
   "execution_count": 7,
   "id": "d04561f0",
   "metadata": {},
   "outputs": [],
   "source": [
    "def ask_dates():\n",
    "    print(\"\\033[1;31mTravelBot: What is Your Preferred Travel Dates?\\033[0m\")\n",
    "    dates = input(\"User: \")\n",
    "    time.sleep(1)\n",
    "    print(\"\\033[1;36mTravelBot: Okay, Your Travel Dates Are\\033[0m \" + dates + \".\")\n",
    "    time.sleep(2)"
   ]
  },
  {
   "cell_type": "code",
   "execution_count": 8,
   "id": "92b1d077",
   "metadata": {},
   "outputs": [],
   "source": [
    "def ask_hotelbooking():\n",
    "    print(\"\\033[1;31mTravelBot: What will be your preferable Hotel Room? Individual or Sharing?\\033[0m\")\n",
    "    hotelbooking = input(\"User: \")\n",
    "    time.sleep(1)\n",
    "    print(\"\\033[1;36mTravelBot: Sure,As you wish to stay.\\033[0m\")\n",
    "    time.sleep(2)"
   ]
  },
  {
   "cell_type": "code",
   "execution_count": 9,
   "id": "130a1073",
   "metadata": {},
   "outputs": [],
   "source": [
    "def ask_help():\n",
    "    print(\"\\033[1;31mTravelBot: Is There Anything Else I Can Help You With?\\033[0m\")\n",
    "    help_needed = input(\"User: \").lower()\n",
    "    if help_needed == \"yes\":\n",
    "        return True\n",
    "    else:\n",
    "        return False"
   ]
  },
  {
   "cell_type": "code",
   "execution_count": 10,
   "id": "265bcf5e",
   "metadata": {},
   "outputs": [],
   "source": [
    "def main():\n",
    "    greet()\n",
    "    ask_name()\n",
    "    ask_destination()\n",
    "    ask_members()\n",
    "    ask_travelmode()\n",
    "    ask_dates()\n",
    "    ask_hotelbooking()\n",
    "    while ask_help():\n",
    "        ask_destination()\n",
    "        ask_dates()\n",
    "    print(\"\\033[1;36mTravelBot: Nice, Have A Great Journey!\\033[0m\")"
   ]
  },
  {
   "cell_type": "code",
   "execution_count": 11,
   "id": "0afe0cc3",
   "metadata": {},
   "outputs": [
    {
     "name": "stdout",
     "output_type": "stream",
     "text": [
      "\u001b[1;36mTravelBot: Hi! How are you? I'm your travel helping assistant.\u001b[0m\n",
      "\u001b[1;31mTravelBot: What is your name?\u001b[0m\n",
      "User: Soumalya Bhattacharyya\n",
      "\u001b[1;36mTravelBot: Welcome! Pleasure to meet you.\u001b[0m, Soumalya Bhattacharyya!\n",
      "\u001b[1;31mTravelBot: Where would you like to travel?\u001b[0m\n",
      "User: Kashmir\n",
      "\u001b[1;36mTravelBot: Wow! Great Choice! Kashmir Is A Beautiful Place.\u001b[0m\n",
      "\u001b[1;31mTravelBot: How many members will travel with you?\u001b[0m\n",
      "User: Five\n",
      "\u001b[1;36mTravelBot: Great! It will be a wholesome trip for you.\u001b[0m\n",
      "\u001b[1;31mTravelBot: Will you prefer Train or Flight for your journey?\u001b[0m\n",
      "User: Flight\n",
      "\u001b[1;36mTravelBot: Fine! Flight journey will also be convenient for you.\u001b[0m\n",
      "\u001b[1;31mTravelBot: What is Your Preferred Travel Dates?\u001b[0m\n",
      "User: 18th August\n",
      "\u001b[1;36mTravelBot: Okay, Your Travel Dates Are\u001b[0m 18th August.\n",
      "\u001b[1;31mTravelBot: What will be your preferable Hotel Room? Individual or Sharing?\u001b[0m\n",
      "User: Sharing\n",
      "\u001b[1;36mTravelBot: Sure,As you wish to stay.\u001b[0m\n",
      "\u001b[1;31mTravelBot: Is There Anything Else I Can Help You With?\u001b[0m\n",
      "User: No\n",
      "\u001b[1;36mTravelBot: Nice, Have A Great Journey!\u001b[0m\n"
     ]
    }
   ],
   "source": [
    "if __name__ == \"__main__\":\n",
    "    main()"
   ]
  },
  {
   "cell_type": "code",
   "execution_count": null,
   "id": "7cf1ce00",
   "metadata": {},
   "outputs": [],
   "source": []
  }
 ],
 "metadata": {
  "kernelspec": {
   "display_name": "Python 3 (ipykernel)",
   "language": "python",
   "name": "python3"
  },
  "language_info": {
   "codemirror_mode": {
    "name": "ipython",
    "version": 3
   },
   "file_extension": ".py",
   "mimetype": "text/x-python",
   "name": "python",
   "nbconvert_exporter": "python",
   "pygments_lexer": "ipython3",
   "version": "3.11.3"
  }
 },
 "nbformat": 4,
 "nbformat_minor": 5
}
